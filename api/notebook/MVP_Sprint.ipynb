{
  "nbformat": 4,
  "nbformat_minor": 0,
  "metadata": {
    "colab": {
      "provenance": []
    },
    "kernelspec": {
      "name": "python3",
      "display_name": "Python 3"
    },
    "language_info": {
      "name": "python"
    }
  },
  "cells": [
    {
      "cell_type": "markdown",
      "source": [
        "# Autor: Jéssyca Noronha ♥\n",
        "\n",
        "Este projeto tem como objetivo comparar diferentes modelos de classificação de preços de celulares utilizando características como 'battery_power', 'clock_speed', 'fc', 'int_memory', 'n_cores', 'pc', 'ram' e 'talk_time'.\n",
        "\n",
        "\n",
        "Etapas do Projeto:\n",
        "\n",
        "    Carga dos Dados: Os dados são carregados a partir de um arquivo CSV (exemplo fictício) e selecionadas as colunas relevantes para a análise. O conjunto de dados inclui informações sobre atributos técnicos dos celulares e a classe de preço correspondente (price_range).\n",
        "\n",
        "    Separação de Features e Target: As características (X) são extraídas, removendo a coluna de preços (price_range), que se torna a variável alvo (y).\n",
        "\n",
        "    Separação Treino/Teste: O conjunto de dados é dividido em dados de treino e teste, utilizando uma proporção de 80% para treino e 20% para teste, garantindo que o modelo possa ser avaliado adequadamente.\n",
        "\n",
        "    Normalização/Padronização: Pipelines são criados para normalizar os dados usando diferentes técnicas de escalonamento, como StandardScaler e MinMaxScaler, aplicados em combinação com vários classificadores: K-Nearest Neighbors (KNN), Decision Tree, Naive Bayes e Support Vector Machine (SVM).\n",
        "\n",
        "    Otimização de Hiperparâmetros: Para cada modelo, uma busca em grade (GridSearchCV) é realizada para encontrar os melhores hiperparâmetros, usando validação cruzada para garantir a robustez dos resultados.\n",
        "\n",
        "    Avaliação dos Modelos: Após o treinamento, cada modelo é avaliado com base em métricas de desempenho, como precisão, recall e F1-score, apresentando um relatório de classificação e a acurácia obtida em relação ao conjunto de teste.\n",
        "\n",
        "    Exportação do Melhor Modelo: O modelo que apresentou o melhor desempenho (neste caso, o SVM) é salvo em um arquivo para utilização futura.\n",
        "\n",
        "Este fluxo de trabalho fornece uma base sólida para a classificação de preços de celulares, permitindo que os usuários comparem e escolham o modelo mais adequado para suas necessidades."
      ],
      "metadata": {
        "id": "O5ZNCuASyCNT"
      }
    },
    {
      "cell_type": "code",
      "execution_count": null,
      "metadata": {
        "colab": {
          "base_uri": "https://localhost:8080/"
        },
        "id": "AtJNOvJxLHdA",
        "outputId": "6858bd9d-8c39-4355-a99e-0907ece87f1e"
      },
      "outputs": [
        {
          "output_type": "stream",
          "name": "stdout",
          "text": [
            "Resultados para knn:\n",
            "              precision    recall  f1-score   support\n",
            "\n",
            "           0       0.82      0.87      0.84       105\n",
            "           1       0.58      0.57      0.57        91\n",
            "           2       0.51      0.59      0.55        92\n",
            "           3       0.86      0.72      0.79       112\n",
            "\n",
            "    accuracy                           0.69       400\n",
            "   macro avg       0.69      0.69      0.69       400\n",
            "weighted avg       0.71      0.69      0.70       400\n",
            "\n",
            "Acurácia: 0.6950\n",
            "Resultados para tree:\n",
            "              precision    recall  f1-score   support\n",
            "\n",
            "           0       0.93      0.90      0.91       105\n",
            "           1       0.73      0.76      0.75        91\n",
            "           2       0.62      0.75      0.68        92\n",
            "           3       0.90      0.75      0.82       112\n",
            "\n",
            "    accuracy                           0.79       400\n",
            "   macro avg       0.80      0.79      0.79       400\n",
            "weighted avg       0.81      0.79      0.79       400\n",
            "\n",
            "Acurácia: 0.7900\n",
            "Resultados para nb:\n",
            "              precision    recall  f1-score   support\n",
            "\n",
            "           0       0.87      0.88      0.87       105\n",
            "           1       0.72      0.65      0.68        91\n",
            "           2       0.63      0.73      0.67        92\n",
            "           3       0.86      0.80      0.83       112\n",
            "\n",
            "    accuracy                           0.77       400\n",
            "   macro avg       0.77      0.76      0.76       400\n",
            "weighted avg       0.78      0.77      0.77       400\n",
            "\n",
            "Acurácia: 0.7700\n",
            "Resultados para svm:\n",
            "              precision    recall  f1-score   support\n",
            "\n",
            "           0       0.92      0.92      0.92       105\n",
            "           1       0.79      0.77      0.78        91\n",
            "           2       0.65      0.74      0.69        92\n",
            "           3       0.87      0.79      0.83       112\n",
            "\n",
            "    accuracy                           0.81       400\n",
            "   macro avg       0.81      0.80      0.80       400\n",
            "weighted avg       0.81      0.81      0.81       400\n",
            "\n",
            "Acurácia: 0.8075\n"
          ]
        },
        {
          "output_type": "execute_result",
          "data": {
            "text/plain": [
              "['melhor_modelo.pkl']"
            ]
          },
          "metadata": {},
          "execution_count": 2
        }
      ],
      "source": [
        "import numpy as np\n",
        "import pandas as pd\n",
        "from sklearn.model_selection import train_test_split, GridSearchCV, cross_val_score\n",
        "from sklearn.preprocessing import StandardScaler, MinMaxScaler\n",
        "from sklearn.neighbors import KNeighborsClassifier\n",
        "from sklearn.tree import DecisionTreeClassifier\n",
        "from sklearn.naive_bayes import GaussianNB\n",
        "from sklearn.svm import SVC\n",
        "from sklearn.metrics import classification_report, accuracy_score\n",
        "from sklearn.pipeline import Pipeline\n",
        "import joblib\n",
        "\n",
        "# 1. Carga dos dados (exemplo com dataset fictício)\n",
        "df_1 = pd.read_csv('https://raw.githubusercontent.com/Jessycanoronha/mobilePriceClassification/main/api/dataset/train.csv')\n",
        "df = df_1[['battery_power', 'clock_speed', 'fc', 'int_memory', 'n_cores', 'pc', 'ram', 'talk_time', 'price_range']];\n",
        "\n",
        "# Separando as features e o target\n",
        "X = df.drop('price_range', axis=1)\n",
        "y = df['price_range']\n",
        "\n",
        "# 2. Separação treino/teste (holdout)\n",
        "X_train, X_test, y_train, y_test = train_test_split(X, y, test_size=0.2, random_state=42)\n",
        "\n",
        "# 3. Normalização/Padronização (usando Pipeline)\n",
        "pipelines = {\n",
        "    'knn': Pipeline([('scaler', StandardScaler()), ('knn', KNeighborsClassifier())]),\n",
        "    'tree': Pipeline([('scaler', StandardScaler()), ('tree', DecisionTreeClassifier())]),\n",
        "    'nb': Pipeline([('scaler', MinMaxScaler()), ('nb', GaussianNB())]),\n",
        "    'svm': Pipeline([('scaler', StandardScaler()), ('svm', SVC())])\n",
        "}\n",
        "\n",
        "# 4. Otimização de Hiperparâmetros (GridSearchCV para cada modelo)\n",
        "param_grids = {\n",
        "    'knn': {'knn__n_neighbors': [3, 5, 7]},\n",
        "    'tree': {'tree__max_depth': [5, 10, 15]},\n",
        "    'svm': {'svm__C': [0.1, 1, 10], 'svm__kernel': ['linear', 'rbf']}\n",
        "}\n",
        "\n",
        "best_models = {}\n",
        "for name, pipeline in pipelines.items():\n",
        "    grid = GridSearchCV(pipeline, param_grids.get(name, {}), cv=5)\n",
        "    grid.fit(X_train, y_train)\n",
        "    best_models[name] = grid.best_estimator_\n",
        "\n",
        "# 5. Avaliação dos Modelos\n",
        "for name, model in best_models.items():\n",
        "    y_pred = model.predict(X_test)\n",
        "    print(f\"Resultados para {name}:\")\n",
        "    print(classification_report(y_test, y_pred))\n",
        "    print(f\"Acurácia: {accuracy_score(y_test, y_pred):.4f}\")\n",
        "\n",
        "# 6. Exportação do melhor modelo\n",
        "melhor_modelo = best_models['svm']  # Exemplo de seleção do melhor modelo\n",
        "joblib.dump(melhor_modelo, 'melhor_modelo.pkl')"
      ]
    },
    {
      "cell_type": "code",
      "source": [
        "xt = {'battery_power': 1000,'clock_speed': 2.0,'fc': 10,'int_memory': 32,'n_cores': 8,'pc': 5,'ram': 2048, 'talk_time': 12}\n",
        "d = pd.DataFrame(xt, index=[0])\n",
        "y_pred = model.predict(d)\n",
        "print(y_pred)"
      ],
      "metadata": {
        "colab": {
          "base_uri": "https://localhost:8080/"
        },
        "id": "8TIbl5j5lwEl",
        "outputId": "a02c424e-51ab-49ee-8e3a-3fed193b45c7"
      },
      "execution_count": null,
      "outputs": [
        {
          "output_type": "stream",
          "name": "stdout",
          "text": [
            "[1]\n"
          ]
        }
      ]
    },
    {
      "cell_type": "code",
      "source": [
        "filename = 'melhor_modelo.pkl'\n",
        "with open(filename, 'rb') as file:\n",
        "  m = joblib.load(file)\n",
        "\n",
        "xt = {'battery_power': 4000,'clock_speed': 2.0,'fc': 10,'int_memory': 32,'n_cores': 8,'pc': 5,'ram': 2048, 'talk_time': 12}\n",
        "input_data = pd.DataFrame(xt , index=[0])\n",
        "\n",
        "y = m.predict(input_data)\n",
        "\n",
        "print(y)"
      ],
      "metadata": {
        "colab": {
          "base_uri": "https://localhost:8080/"
        },
        "id": "1nGbpWyrn59D",
        "outputId": "af2a35bb-effd-4f29-b040-9212ddd49ce0"
      },
      "execution_count": null,
      "outputs": [
        {
          "output_type": "stream",
          "name": "stdout",
          "text": [
            "[3]\n"
          ]
        }
      ]
    }
  ]
}